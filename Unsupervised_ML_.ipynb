{
  "nbformat": 4,
  "nbformat_minor": 0,
  "metadata": {
    "colab": {
      "provenance": [],
      "mount_file_id": "1aPWs2IgmquQBs1WCV-Rt6qxaaUZ26iHh",
      "authorship_tag": "ABX9TyMItt1YxiOP6ZDXOrUC9/NC",
      "include_colab_link": true
    },
    "kernelspec": {
      "name": "python3",
      "display_name": "Python 3"
    },
    "language_info": {
      "name": "python"
    }
  },
  "cells": [
    {
      "cell_type": "markdown",
      "metadata": {
        "id": "view-in-github",
        "colab_type": "text"
      },
      "source": [
        "<a href=\"https://colab.research.google.com/github/Raaghashree/Pattern-Based-Insider-Threat-Detection-Using-Machine-Learning/blob/main/Unsupervised_ML_.ipynb\" target=\"_parent\"><img src=\"https://colab.research.google.com/assets/colab-badge.svg\" alt=\"Open In Colab\"/></a>"
      ]
    },
    {
      "cell_type": "code",
      "source": [
        "from google.colab import drive\n",
        "drive.mount('/content/drive', force_remount=True)"
      ],
      "metadata": {
        "colab": {
          "base_uri": "https://localhost:8080/"
        },
        "id": "rixwMwsSOoJq",
        "outputId": "e6ee6c3c-0ef4-41c6-c15d-be3c05a9a063"
      },
      "execution_count": null,
      "outputs": [
        {
          "output_type": "stream",
          "name": "stdout",
          "text": [
            "Mounted at /content/drive\n"
          ]
        }
      ]
    },
    {
      "cell_type": "code",
      "source": [
        "!ls '/content/drive/MyDrive/Dataset'"
      ],
      "metadata": {
        "colab": {
          "base_uri": "https://localhost:8080/"
        },
        "id": "QJxofDh0OuuO",
        "outputId": "c51e9497-2155-4156-d3e7-c95706937f8c"
      },
      "execution_count": null,
      "outputs": [
        {
          "output_type": "stream",
          "name": "stdout",
          "text": [
            " CTDAPD_Anomaly_Ensembled.csv   device.csv\t   logon.csv\n",
            "'CTDAPD Dataset.csv'\t        http.csv\t   Processed_Unsupervised_CTDAPD_Dataset.csv\n",
            "'CTDAPD Dataset.gsheet'         LDAP_2009-12.csv   readme.txt\n"
          ]
        }
      ]
    },
    {
      "cell_type": "code",
      "execution_count": null,
      "metadata": {
        "colab": {
          "base_uri": "https://localhost:8080/"
        },
        "id": "fPneIs09OUrr",
        "outputId": "965c0542-d782-4539-fc0d-cf47664e01ed"
      },
      "outputs": [
        {
          "output_type": "stream",
          "name": "stdout",
          "text": [
            "Dataset loaded successfully with 54768 rows and 30 columns\n",
            "Columns with missing values: {'Attack_Vector': 80.03761320479111, 'Botnet_Family': 89.87547472976921, 'Malware_Type': 94.1261320479112}\n",
            "Found 0 duplicate rows\n",
            "Original non-numeric columns: ['Date', 'Source_IP', 'Destination_IP', 'Protocol_Type', 'Attack_Severity', 'System_Patch_Status', 'Label']\n",
            "Non-numeric columns that will be dropped: ['Date', 'Attack_Severity']\n",
            "Encoded 'Protocol_Type'.\n",
            "Encoding 'System_Patch_Status'. Original values: ['Outdated' 'Up-to-date']\n",
            "Encoded values: [0 1]\n",
            "Encoding target variable. Original values: ['Normal' 'Attack']\n",
            "Encoded values: [1 0]\n",
            "Class distribution before SMOTE: {1: 46589, 0: 8179}\n",
            "Class imbalance ratio: 0.18\n",
            "Applying SMOTE to balance classes...\n",
            "Data shape after SMOTE: (93178, 24)\n",
            "Class distribution after SMOTE: {1: 46589, 0: 46589}\n",
            "\n",
            "Data Preprocessing Complete! Cleaned dataset saved as 'Processed_CTDAPD_Dataset.csv'.\n",
            "Final dataset shape: (93178, 25)\n"
          ]
        }
      ],
      "source": [
        "import pandas as pd\n",
        "import numpy as np\n",
        "import ipaddress\n",
        "from sklearn.preprocessing import LabelEncoder, MinMaxScaler\n",
        "from imblearn.over_sampling import SMOTE\n",
        "\n",
        "# Load dataset\n",
        "try:\n",
        "    df = pd.read_csv(\"/content/drive/MyDrive/Dataset/CTDAPD Dataset.csv\")\n",
        "    print(f\"Dataset loaded successfully with {df.shape[0]} rows and {df.shape[1]} columns\")\n",
        "except FileNotFoundError:\n",
        "    print(\"Error: 'CTDAPD Dataset.csv' file not found. Please check the file path.\")\n",
        "    exit(1)\n",
        "\n",
        "# Step 1: Clean Column Names\n",
        "df.columns = df.columns.str.strip()\n",
        "\n",
        "# Step 2: Handle Missing Values\n",
        "missing_percentage = df.isnull().mean() * 100\n",
        "print(f\"Columns with missing values: {missing_percentage[missing_percentage > 0].to_dict()}\")\n",
        "\n",
        "# Drop columns with >50% missing values\n",
        "df.dropna(thresh=len(df) * 0.5, axis=1, inplace=True)\n",
        "\n",
        "# Fill numeric columns with mean, non-numeric with mode\n",
        "numeric_cols = df.select_dtypes(include=['number']).columns\n",
        "df[numeric_cols] = df[numeric_cols].apply(lambda col: col.fillna(col.mean()) if col.isnull().sum() > 0 else col)\n",
        "\n",
        "categorical_cols = df.select_dtypes(include=['object']).columns\n",
        "df[categorical_cols] = df[categorical_cols].apply(lambda col: col.fillna(col.mode()[0]) if col.isnull().sum() > 0 else col)\n",
        "\n",
        "# Step 3: Remove Duplicate Rows\n",
        "duplicates = df.duplicated().sum()\n",
        "print(f\"Found {duplicates} duplicate rows\")\n",
        "df.drop_duplicates(inplace=True)\n",
        "\n",
        "# Step 4: Handle Non-Numeric Columns\n",
        "# Identify non-numeric columns\n",
        "non_numeric_cols = df.select_dtypes(include=['object']).columns.tolist()\n",
        "print(\"Original non-numeric columns:\", non_numeric_cols)\n",
        "\n",
        "# Specify columns to keep among non-numeric: 'Label', 'Source_IP', 'Destination_IP', 'Protocol_Type', 'System_Patch_Status'\n",
        "keep_columns = ['Label', 'Source_IP', 'Destination_IP', 'Protocol_Type', 'System_Patch_Status']\n",
        "# Drop all non-numeric columns that are not in keep_columns\n",
        "cols_to_drop = [col for col in non_numeric_cols if col not in keep_columns]\n",
        "print(f\"Non-numeric columns that will be dropped: {cols_to_drop}\")\n",
        "df.drop(columns=cols_to_drop, inplace=True, errors='ignore')\n",
        "\n",
        "# Convert IP addresses into numeric form\n",
        "if 'Source_IP' in df.columns:\n",
        "    df['Source_IP_int'] = df['Source_IP'].apply(lambda ip: int(ipaddress.IPv4Address(ip)))\n",
        "if 'Destination_IP' in df.columns:\n",
        "    df['Destination_IP_int'] = df['Destination_IP'].apply(lambda ip: int(ipaddress.IPv4Address(ip)))\n",
        "# Drop original IP columns\n",
        "df.drop(columns=['Source_IP', 'Destination_IP'], inplace=True)\n",
        "\n",
        "# Encode 'Protocol_Type' using LabelEncoder\n",
        "if 'Protocol_Type' in df.columns:\n",
        "    proto_encoder = LabelEncoder()\n",
        "    df['Protocol_Type'] = proto_encoder.fit_transform(df['Protocol_Type'])\n",
        "    print(\"Encoded 'Protocol_Type'.\")\n",
        "\n",
        "# ✅ Encode 'System_Patch_Status' using LabelEncoder\n",
        "if 'System_Patch_Status' in df.columns:\n",
        "    print(f\"Encoding 'System_Patch_Status'. Original values: {df['System_Patch_Status'].unique()}\")\n",
        "    patch_encoder = LabelEncoder()\n",
        "    df['System_Patch_Status'] = patch_encoder.fit_transform(df['System_Patch_Status'])\n",
        "    print(f\"Encoded values: {df['System_Patch_Status'].unique()}\")\n",
        "\n",
        "# Step 5: Encode Target Variable\n",
        "if 'Label' in df.columns:\n",
        "    if df['Label'].dtype == 'object':\n",
        "        print(f\"Encoding target variable. Original values: {df['Label'].unique()}\")\n",
        "        encoder = LabelEncoder()\n",
        "        df['Label'] = encoder.fit_transform(df['Label'])\n",
        "        print(f\"Encoded values: {df['Label'].unique()}\")\n",
        "else:\n",
        "    print(\"Error: Target column 'Label' not found in dataset\")\n",
        "    exit(1)\n",
        "\n",
        "# Step 6: Ensure All Features Are Numeric\n",
        "X = df.drop(columns=['Label'])\n",
        "y = df['Label']\n",
        "\n",
        "# 💡 Function to clean inf values in a specific column\n",
        "def clean_feature_column(X):\n",
        "    col = 'Normalized_Packet_Flow'\n",
        "    if col in X.columns:\n",
        "        mean_val = X[col][~np.isinf(X[col])].mean()\n",
        "        X[col] = X[col].replace([np.inf, -np.inf], mean_val)\n",
        "    return X\n",
        "\n",
        "# ✅ Apply the fix for 'inf' values\n",
        "X = clean_feature_column(X)\n",
        "\n",
        "# Step 7: Handle Class Imbalance using SMOTE\n",
        "class_counts = y.value_counts()\n",
        "print(f\"Class distribution before SMOTE: {class_counts.to_dict()}\")\n",
        "imbalance_ratio = class_counts.min() / class_counts.max()\n",
        "print(f\"Class imbalance ratio: {imbalance_ratio:.2f}\")\n",
        "\n",
        "if imbalance_ratio < 0.5:\n",
        "    print(\"Applying SMOTE to balance classes...\")\n",
        "    smote = SMOTE(sampling_strategy=1.0, random_state=42)  # Fully balance classes\n",
        "    X_resampled, y_resampled = smote.fit_resample(X, y)\n",
        "    print(f\"Data shape after SMOTE: {X_resampled.shape}\")\n",
        "else:\n",
        "    print(\"Class balance is acceptable, skipping SMOTE\")\n",
        "    X_resampled, y_resampled = X, y\n",
        "\n",
        "# Convert back to DataFrame\n",
        "df_balanced = pd.DataFrame(X_resampled, columns=X.columns)\n",
        "df_balanced['Label'] = y_resampled\n",
        "\n",
        "# Check new class distribution\n",
        "print(f\"Class distribution after SMOTE: {df_balanced['Label'].value_counts().to_dict()}\")\n",
        "\n",
        "# Step 8: Normalize Features using MinMaxScaler\n",
        "scaler = MinMaxScaler()\n",
        "X_normalized = scaler.fit_transform(df_balanced.drop(columns=['Label']))\n",
        "df_processed = pd.DataFrame(X_normalized, columns=X.columns)\n",
        "df_processed['Label'] = df_balanced['Label']\n",
        "\n",
        "# Save the cleaned and preprocessed dataset\n",
        "df_processed.to_csv(\"Processed_CTDAPD_Dataset.csv\", index=False)\n",
        "print(\"\\nData Preprocessing Complete! Cleaned dataset saved as 'Processed_CTDAPD_Dataset.csv'.\")\n",
        "print(f\"Final dataset shape: {df_processed.shape}\")"
      ]
    },
    {
      "cell_type": "code",
      "source": [
        "import pandas as pd\n",
        "import numpy as np\n",
        "import ipaddress\n",
        "from sklearn.preprocessing import LabelEncoder, MinMaxScaler\n",
        "\n",
        "# Load dataset (change path accordingly if on Google Drive)\n",
        "file_path = \"/content/drive/MyDrive/Dataset/CTDAPD Dataset.csv\"  # ✅ Update if needed\n",
        "try:\n",
        "    df = pd.read_csv(file_path)\n",
        "    print(f\"Dataset loaded: {df.shape}\")\n",
        "except FileNotFoundError:\n",
        "    print(\"Error: File not found.\")\n",
        "    exit(1)\n",
        "\n",
        "# Step 1: Clean Column Names\n",
        "df.columns = df.columns.str.strip()\n",
        "\n",
        "# Step 2: Handle Missing Values\n",
        "missing_percentage = df.isnull().mean() * 100\n",
        "print(\"Missing Values:\", missing_percentage[missing_percentage > 0].to_dict())\n",
        "\n",
        "df.dropna(thresh=len(df) * 0.5, axis=1, inplace=True)  # Drop columns with >50% missing\n",
        "numeric_cols = df.select_dtypes(include=['number']).columns\n",
        "df[numeric_cols] = df[numeric_cols].apply(lambda col: col.fillna(col.mean()) if col.isnull().sum() > 0 else col)\n",
        "\n",
        "categorical_cols = df.select_dtypes(include=['object']).columns\n",
        "df[categorical_cols] = df[categorical_cols].apply(lambda col: col.fillna(col.mode()[0]) if col.isnull().sum() > 0 else col)\n",
        "\n",
        "# Step 3: Remove Duplicates\n",
        "duplicates = df.duplicated().sum()\n",
        "print(f\"Duplicate rows found: {duplicates}\")\n",
        "df.drop_duplicates(inplace=True)\n",
        "\n",
        "# Step 4: Handle Non-Numeric Columns\n",
        "non_numeric_cols = df.select_dtypes(include=['object']).columns.tolist()\n",
        "print(\"Non-numeric columns:\", non_numeric_cols)\n",
        "\n",
        "# Keep useful object columns only\n",
        "keep_columns = ['Source_IP', 'Destination_IP', 'Protocol_Type', 'System_Patch_Status']\n",
        "cols_to_drop = [col for col in non_numeric_cols if col not in keep_columns]\n",
        "df.drop(columns=cols_to_drop, inplace=True, errors='ignore')\n",
        "\n",
        "# Convert IPs to integers\n",
        "if 'Source_IP' in df.columns:\n",
        "    df['Source_IP_int'] = df['Source_IP'].apply(lambda ip: int(ipaddress.IPv4Address(ip)))\n",
        "if 'Destination_IP' in df.columns:\n",
        "    df['Destination_IP_int'] = df['Destination_IP'].apply(lambda ip: int(ipaddress.IPv4Address(ip)))\n",
        "df.drop(columns=['Source_IP', 'Destination_IP'], inplace=True, errors='ignore')\n",
        "\n",
        "# Encode categorical fields\n",
        "if 'Protocol_Type' in df.columns:\n",
        "    df['Protocol_Type'] = LabelEncoder().fit_transform(df['Protocol_Type'])\n",
        "\n",
        "if 'System_Patch_Status' in df.columns:\n",
        "    df['System_Patch_Status'] = LabelEncoder().fit_transform(df['System_Patch_Status'])\n",
        "\n",
        "# Step 5: Drop Label Column (for unsupervised)\n",
        "if 'Label' in df.columns:\n",
        "    df.drop(columns=['Label'], inplace=True)\n",
        "    print(\"Dropped 'Label' column for unsupervised learning\")\n",
        "\n",
        "# Step 6: Replace inf/-inf values\n",
        "if 'Normalized_Packet_Flow' in df.columns:\n",
        "    col = 'Normalized_Packet_Flow'\n",
        "    mean_val = df[col][~np.isinf(df[col])].mean()\n",
        "    df[col] = df[col].replace([np.inf, -np.inf], mean_val)\n",
        "\n",
        "# Step 7: Normalize Features\n",
        "scaler = MinMaxScaler()\n",
        "X_normalized = scaler.fit_transform(df)\n",
        "df_processed = pd.DataFrame(X_normalized, columns=df.columns)\n",
        "\n",
        "# Save final dataset\n",
        "df_processed.to_csv(\"Processed_Unsupervised_CTDAPD_Dataset.csv\", index=False)\n",
        "print(\"✅ Dataset ready for unsupervised learning!\")\n",
        "print(f\"Final shape: {df_processed.shape}\")\n"
      ],
      "metadata": {
        "colab": {
          "base_uri": "https://localhost:8080/"
        },
        "id": "p5l91YKqO2lG",
        "outputId": "4ff33c94-b78f-49ac-e052-5ea285154528"
      },
      "execution_count": null,
      "outputs": [
        {
          "output_type": "stream",
          "name": "stdout",
          "text": [
            "Dataset loaded: (54768, 30)\n",
            "Missing Values: {'Attack_Vector': 80.03761320479111, 'Botnet_Family': 89.87547472976921, 'Malware_Type': 94.1261320479112}\n",
            "Duplicate rows found: 0\n",
            "Non-numeric columns: ['Date', 'Source_IP', 'Destination_IP', 'Protocol_Type', 'Attack_Severity', 'System_Patch_Status', 'Label']\n",
            "✅ Dataset ready for unsupervised learning!\n",
            "Final shape: (54768, 24)\n"
          ]
        }
      ]
    },
    {
      "cell_type": "code",
      "source": [
        "import pandas as pd\n",
        "import numpy as np\n",
        "from sklearn.ensemble import IsolationForest\n",
        "from sklearn.neighbors import LocalOutlierFactor\n",
        "from sklearn.model_selection import GridSearchCV\n",
        "from sklearn.metrics import classification_report\n",
        "\n",
        "# Load preprocessed dataset\n",
        "df = pd.read_csv(\"/content/Processed_Unsupervised_CTDAPD_Dataset.csv\")\n",
        "\n",
        "# Keep a copy of the original for saving\n",
        "df_result = df.copy()\n",
        "\n",
        "# --------------------- Hyperparameter Tuning for Isolation Forest ---------------------\n",
        "param_grid = {\n",
        "    'n_estimators': [100, 200],\n",
        "    'max_samples': ['auto', 0.8],\n",
        "    'contamination': [0.05, 0.1],\n",
        "    'max_features': [1.0, 0.8]\n",
        "}\n",
        "\n",
        "grid = GridSearchCV(\n",
        "    IsolationForest(random_state=42),\n",
        "    param_grid,\n",
        "    scoring='accuracy',  # not perfect for unsupervised but helps filter bad params\n",
        "    cv=3,\n",
        "    verbose=1,\n",
        "    n_jobs=-1\n",
        ")\n",
        "\n",
        "# Temporarily simulate labels for GridSearch scoring\n",
        "# In unsupervised learning we assume most data is normal\n",
        "pseudo_labels = np.zeros(len(df))\n",
        "grid.fit(df, pseudo_labels)\n",
        "\n",
        "best_iforest = grid.best_estimator_\n",
        "print(f\"\\n✅ Best Isolation Forest Params: {grid.best_params_}\")\n",
        "\n",
        "# Predict with tuned Isolation Forest\n",
        "iforest_pred = best_iforest.fit_predict(df)\n",
        "\n",
        "# --------------------- Apply Local Outlier Factor ---------------------\n",
        "lof_model = LocalOutlierFactor(n_neighbors=20, contamination=0.05)\n",
        "lof_pred = lof_model.fit_predict(df)\n",
        "\n",
        "# --------------------- Ensemble Voting ---------------------\n",
        "# If both predict -1 (anomaly), final = -1\n",
        "ensemble_pred = np.where((iforest_pred == -1) & (lof_pred == -1), -1, 1)\n",
        "\n",
        "# Save results\n",
        "df_result['IsolationForest'] = iforest_pred\n",
        "df_result['LOF'] = lof_pred\n",
        "df_result['Final_Anomaly_Label'] = ensemble_pred\n",
        "df_result['Final_Anomaly_Label'] = df_result['Final_Anomaly_Label'].map({-1: 'Anomaly', 1: 'Normal'})\n",
        "\n",
        "# Count\n",
        "n_anomalies = (ensemble_pred == -1).sum()\n",
        "print(f\"\\n🔍 Ensemble Detected {n_anomalies} anomalies out of {len(df)} samples.\")\n",
        "print(f\"✅ Anomaly Percentage: {(n_anomalies / len(df)) * 100:.2f}%\")\n",
        "\n",
        "# Save to CSV\n",
        "df_result.to_csv(\"CTDAPD_Anomaly_Ensembled.csv\", index=False)\n",
        "print(\"📁 Saved to 'CTDAPD_Anomaly_Ensembled.csv'\")\n"
      ],
      "metadata": {
        "colab": {
          "base_uri": "https://localhost:8080/"
        },
        "id": "_qsfqMIgPIhC",
        "outputId": "6cc63bae-b86c-404a-bd69-abd9248a28e2"
      },
      "execution_count": null,
      "outputs": [
        {
          "output_type": "stream",
          "name": "stdout",
          "text": [
            "Fitting 3 folds for each of 16 candidates, totalling 48 fits\n",
            "\n",
            "✅ Best Isolation Forest Params: {'contamination': 0.05, 'max_features': 1.0, 'max_samples': 'auto', 'n_estimators': 100}\n",
            "\n",
            "🔍 Ensemble Detected 936 anomalies out of 54768 samples.\n",
            "✅ Anomaly Percentage: 1.71%\n",
            "📁 Saved to 'CTDAPD_Anomaly_Ensembled.csv'\n"
          ]
        }
      ]
    },
    {
      "cell_type": "code",
      "source": [
        "import pandas as pd\n",
        "import numpy as np\n",
        "from sklearn.preprocessing import MinMaxScaler\n",
        "from sklearn.metrics import classification_report, confusion_matrix\n",
        "from tensorflow.keras.models import Model\n",
        "from tensorflow.keras.layers import Input, Dense\n",
        "from tensorflow.keras.optimizers import Adam\n",
        "\n",
        "# Load data\n",
        "df = pd.read_csv(\"/content/Processed_Unsupervised_CTDAPD_Dataset.csv\")\n",
        "\n",
        "# Optional: Extract ground truth if available\n",
        "true_labels = pd.read_csv(\"/content/drive/MyDrive/Dataset/CTDAPD Dataset.csv\")['Label'].map({'Normal': 0, 'Attack': 1})\n",
        "\n",
        "# Normalize features\n",
        "scaler = MinMaxScaler()\n",
        "X_scaled = scaler.fit_transform(df)\n",
        "\n",
        "# Define Autoencoder\n",
        "input_dim = X_scaled.shape[1]\n",
        "input_layer = Input(shape=(input_dim,))\n",
        "encoded = Dense(64, activation='relu')(input_layer)\n",
        "encoded = Dense(32, activation='relu')(encoded)\n",
        "decoded = Dense(64, activation='relu')(encoded)\n",
        "output_layer = Dense(input_dim, activation='sigmoid')(decoded)\n",
        "\n",
        "autoencoder = Model(inputs=input_layer, outputs=output_layer)\n",
        "autoencoder.compile(optimizer=Adam(learning_rate=0.001), loss='mse')\n",
        "\n",
        "# Train the autoencoder\n",
        "autoencoder.fit(X_scaled, X_scaled, epochs=50, batch_size=256, shuffle=True, validation_split=0.1, verbose=1)\n",
        "\n",
        "# Reconstruct and compute MSE\n",
        "reconstructions = autoencoder.predict(X_scaled)\n",
        "mse = np.mean(np.power(X_scaled - reconstructions, 2), axis=1)\n",
        "\n",
        "# Set threshold: top 5% MSE values are anomalies\n",
        "threshold = np.percentile(mse, 95)\n",
        "anomaly_pred = np.where(mse > threshold, 1, 0)  # 1 = Anomaly, 0 = Normal\n",
        "\n",
        "# Save result\n",
        "df['Autoencoder_Anomaly'] = np.where(anomaly_pred == 1, 'Anomaly', 'Normal')\n",
        "df.to_csv(\"CTDAPD_Autoencoder_Results.csv\", index=False)\n",
        "print(\"📁 Results saved to 'CTDAPD_Autoencoder_Results.csv'\")\n",
        "\n",
        "# Optional: Evaluate if labels are available\n",
        "if true_labels is not None:\n",
        "    print(\"\\n📊 Classification Report:\")\n",
        "    print(classification_report(true_labels, anomaly_pred, target_names=['Normal', 'Attack']))\n"
      ],
      "metadata": {
        "colab": {
          "base_uri": "https://localhost:8080/"
        },
        "id": "QcK_NcsHXN1r",
        "outputId": "55c901db-b98c-47ea-d7c6-150801bff139"
      },
      "execution_count": null,
      "outputs": [
        {
          "output_type": "stream",
          "name": "stdout",
          "text": [
            "Epoch 1/50\n",
            "\u001b[1m193/193\u001b[0m \u001b[32m━━━━━━━━━━━━━━━━━━━━\u001b[0m\u001b[37m\u001b[0m \u001b[1m3s\u001b[0m 4ms/step - loss: 0.0595 - val_loss: 0.0114\n",
            "Epoch 2/50\n",
            "\u001b[1m193/193\u001b[0m \u001b[32m━━━━━━━━━━━━━━━━━━━━\u001b[0m\u001b[37m\u001b[0m \u001b[1m1s\u001b[0m 4ms/step - loss: 0.0092 - val_loss: 0.0054\n",
            "Epoch 3/50\n",
            "\u001b[1m193/193\u001b[0m \u001b[32m━━━━━━━━━━━━━━━━━━━━\u001b[0m\u001b[37m\u001b[0m \u001b[1m1s\u001b[0m 3ms/step - loss: 0.0048 - val_loss: 0.0034\n",
            "Epoch 4/50\n",
            "\u001b[1m193/193\u001b[0m \u001b[32m━━━━━━━━━━━━━━━━━━━━\u001b[0m\u001b[37m\u001b[0m \u001b[1m1s\u001b[0m 4ms/step - loss: 0.0032 - val_loss: 0.0025\n",
            "Epoch 5/50\n",
            "\u001b[1m193/193\u001b[0m \u001b[32m━━━━━━━━━━━━━━━━━━━━\u001b[0m\u001b[37m\u001b[0m \u001b[1m1s\u001b[0m 3ms/step - loss: 0.0023 - val_loss: 0.0017\n",
            "Epoch 6/50\n",
            "\u001b[1m193/193\u001b[0m \u001b[32m━━━━━━━━━━━━━━━━━━━━\u001b[0m\u001b[37m\u001b[0m \u001b[1m1s\u001b[0m 3ms/step - loss: 0.0016 - val_loss: 0.0014\n",
            "Epoch 7/50\n",
            "\u001b[1m193/193\u001b[0m \u001b[32m━━━━━━━━━━━━━━━━━━━━\u001b[0m\u001b[37m\u001b[0m \u001b[1m1s\u001b[0m 4ms/step - loss: 0.0013 - val_loss: 0.0011\n",
            "Epoch 8/50\n",
            "\u001b[1m193/193\u001b[0m \u001b[32m━━━━━━━━━━━━━━━━━━━━\u001b[0m\u001b[37m\u001b[0m \u001b[1m1s\u001b[0m 4ms/step - loss: 0.0011 - val_loss: 8.7979e-04\n",
            "Epoch 9/50\n",
            "\u001b[1m193/193\u001b[0m \u001b[32m━━━━━━━━━━━━━━━━━━━━\u001b[0m\u001b[37m\u001b[0m \u001b[1m1s\u001b[0m 5ms/step - loss: 8.2913e-04 - val_loss: 6.9269e-04\n",
            "Epoch 10/50\n",
            "\u001b[1m193/193\u001b[0m \u001b[32m━━━━━━━━━━━━━━━━━━━━\u001b[0m\u001b[37m\u001b[0m \u001b[1m1s\u001b[0m 6ms/step - loss: 6.6602e-04 - val_loss: 5.9108e-04\n",
            "Epoch 11/50\n",
            "\u001b[1m193/193\u001b[0m \u001b[32m━━━━━━━━━━━━━━━━━━━━\u001b[0m\u001b[37m\u001b[0m \u001b[1m1s\u001b[0m 6ms/step - loss: 5.6281e-04 - val_loss: 5.0567e-04\n",
            "Epoch 12/50\n",
            "\u001b[1m193/193\u001b[0m \u001b[32m━━━━━━━━━━━━━━━━━━━━\u001b[0m\u001b[37m\u001b[0m \u001b[1m1s\u001b[0m 5ms/step - loss: 4.9085e-04 - val_loss: 4.6438e-04\n",
            "Epoch 13/50\n",
            "\u001b[1m193/193\u001b[0m \u001b[32m━━━━━━━━━━━━━━━━━━━━\u001b[0m\u001b[37m\u001b[0m \u001b[1m1s\u001b[0m 4ms/step - loss: 4.5662e-04 - val_loss: 4.3910e-04\n",
            "Epoch 14/50\n",
            "\u001b[1m193/193\u001b[0m \u001b[32m━━━━━━━━━━━━━━━━━━━━\u001b[0m\u001b[37m\u001b[0m \u001b[1m1s\u001b[0m 4ms/step - loss: 4.3212e-04 - val_loss: 4.2758e-04\n",
            "Epoch 15/50\n",
            "\u001b[1m193/193\u001b[0m \u001b[32m━━━━━━━━━━━━━━━━━━━━\u001b[0m\u001b[37m\u001b[0m \u001b[1m1s\u001b[0m 3ms/step - loss: 4.0916e-04 - val_loss: 4.0514e-04\n",
            "Epoch 16/50\n",
            "\u001b[1m193/193\u001b[0m \u001b[32m━━━━━━━━━━━━━━━━━━━━\u001b[0m\u001b[37m\u001b[0m \u001b[1m1s\u001b[0m 3ms/step - loss: 3.9094e-04 - val_loss: 3.7907e-04\n",
            "Epoch 17/50\n",
            "\u001b[1m193/193\u001b[0m \u001b[32m━━━━━━━━━━━━━━━━━━━━\u001b[0m\u001b[37m\u001b[0m \u001b[1m1s\u001b[0m 4ms/step - loss: 3.7668e-04 - val_loss: 3.7738e-04\n",
            "Epoch 18/50\n",
            "\u001b[1m193/193\u001b[0m \u001b[32m━━━━━━━━━━━━━━━━━━━━\u001b[0m\u001b[37m\u001b[0m \u001b[1m1s\u001b[0m 3ms/step - loss: 3.6446e-04 - val_loss: 3.5664e-04\n",
            "Epoch 19/50\n",
            "\u001b[1m193/193\u001b[0m \u001b[32m━━━━━━━━━━━━━━━━━━━━\u001b[0m\u001b[37m\u001b[0m \u001b[1m1s\u001b[0m 3ms/step - loss: 3.5183e-04 - val_loss: 3.4315e-04\n",
            "Epoch 20/50\n",
            "\u001b[1m193/193\u001b[0m \u001b[32m━━━━━━━━━━━━━━━━━━━━\u001b[0m\u001b[37m\u001b[0m \u001b[1m1s\u001b[0m 4ms/step - loss: 3.4141e-04 - val_loss: 3.3873e-04\n",
            "Epoch 21/50\n",
            "\u001b[1m193/193\u001b[0m \u001b[32m━━━━━━━━━━━━━━━━━━━━\u001b[0m\u001b[37m\u001b[0m \u001b[1m1s\u001b[0m 4ms/step - loss: 3.3374e-04 - val_loss: 3.3411e-04\n",
            "Epoch 22/50\n",
            "\u001b[1m193/193\u001b[0m \u001b[32m━━━━━━━━━━━━━━━━━━━━\u001b[0m\u001b[37m\u001b[0m \u001b[1m2s\u001b[0m 5ms/step - loss: 3.2697e-04 - val_loss: 3.4837e-04\n",
            "Epoch 23/50\n",
            "\u001b[1m193/193\u001b[0m \u001b[32m━━━━━━━━━━━━━━━━━━━━\u001b[0m\u001b[37m\u001b[0m \u001b[1m1s\u001b[0m 5ms/step - loss: 3.2794e-04 - val_loss: 3.2625e-04\n",
            "Epoch 24/50\n",
            "\u001b[1m193/193\u001b[0m \u001b[32m━━━━━━━━━━━━━━━━━━━━\u001b[0m\u001b[37m\u001b[0m \u001b[1m1s\u001b[0m 5ms/step - loss: 3.1013e-04 - val_loss: 3.0842e-04\n",
            "Epoch 25/50\n",
            "\u001b[1m193/193\u001b[0m \u001b[32m━━━━━━━━━━━━━━━━━━━━\u001b[0m\u001b[37m\u001b[0m \u001b[1m1s\u001b[0m 3ms/step - loss: 3.0941e-04 - val_loss: 3.0530e-04\n",
            "Epoch 26/50\n",
            "\u001b[1m193/193\u001b[0m \u001b[32m━━━━━━━━━━━━━━━━━━━━\u001b[0m\u001b[37m\u001b[0m \u001b[1m1s\u001b[0m 3ms/step - loss: 3.0279e-04 - val_loss: 3.1332e-04\n",
            "Epoch 27/50\n",
            "\u001b[1m193/193\u001b[0m \u001b[32m━━━━━━━━━━━━━━━━━━━━\u001b[0m\u001b[37m\u001b[0m \u001b[1m1s\u001b[0m 3ms/step - loss: 2.9516e-04 - val_loss: 2.8799e-04\n",
            "Epoch 28/50\n",
            "\u001b[1m193/193\u001b[0m \u001b[32m━━━━━━━━━━━━━━━━━━━━\u001b[0m\u001b[37m\u001b[0m \u001b[1m1s\u001b[0m 3ms/step - loss: 2.8924e-04 - val_loss: 2.8215e-04\n",
            "Epoch 29/50\n",
            "\u001b[1m193/193\u001b[0m \u001b[32m━━━━━━━━━━━━━━━━━━━━\u001b[0m\u001b[37m\u001b[0m \u001b[1m1s\u001b[0m 4ms/step - loss: 2.8752e-04 - val_loss: 2.7857e-04\n",
            "Epoch 30/50\n",
            "\u001b[1m193/193\u001b[0m \u001b[32m━━━━━━━━━━━━━━━━━━━━\u001b[0m\u001b[37m\u001b[0m \u001b[1m1s\u001b[0m 3ms/step - loss: 2.7892e-04 - val_loss: 2.8042e-04\n",
            "Epoch 31/50\n",
            "\u001b[1m193/193\u001b[0m \u001b[32m━━━━━━━━━━━━━━━━━━━━\u001b[0m\u001b[37m\u001b[0m \u001b[1m1s\u001b[0m 3ms/step - loss: 2.7790e-04 - val_loss: 2.7654e-04\n",
            "Epoch 32/50\n",
            "\u001b[1m193/193\u001b[0m \u001b[32m━━━━━━━━━━━━━━━━━━━━\u001b[0m\u001b[37m\u001b[0m \u001b[1m1s\u001b[0m 3ms/step - loss: 2.7247e-04 - val_loss: 2.7962e-04\n",
            "Epoch 33/50\n",
            "\u001b[1m193/193\u001b[0m \u001b[32m━━━━━━━━━━━━━━━━━━━━\u001b[0m\u001b[37m\u001b[0m \u001b[1m1s\u001b[0m 3ms/step - loss: 2.7209e-04 - val_loss: 2.6604e-04\n",
            "Epoch 34/50\n",
            "\u001b[1m193/193\u001b[0m \u001b[32m━━━━━━━━━━━━━━━━━━━━\u001b[0m\u001b[37m\u001b[0m \u001b[1m2s\u001b[0m 5ms/step - loss: 2.6686e-04 - val_loss: 2.5975e-04\n",
            "Epoch 35/50\n",
            "\u001b[1m193/193\u001b[0m \u001b[32m━━━━━━━━━━━━━━━━━━━━\u001b[0m\u001b[37m\u001b[0m \u001b[1m1s\u001b[0m 5ms/step - loss: 2.6305e-04 - val_loss: 2.6225e-04\n",
            "Epoch 36/50\n",
            "\u001b[1m193/193\u001b[0m \u001b[32m━━━━━━━━━━━━━━━━━━━━\u001b[0m\u001b[37m\u001b[0m \u001b[1m1s\u001b[0m 4ms/step - loss: 2.6106e-04 - val_loss: 2.5979e-04\n",
            "Epoch 37/50\n",
            "\u001b[1m193/193\u001b[0m \u001b[32m━━━━━━━━━━━━━━━━━━━━\u001b[0m\u001b[37m\u001b[0m \u001b[1m1s\u001b[0m 4ms/step - loss: 2.5865e-04 - val_loss: 2.5761e-04\n",
            "Epoch 38/50\n",
            "\u001b[1m193/193\u001b[0m \u001b[32m━━━━━━━━━━━━━━━━━━━━\u001b[0m\u001b[37m\u001b[0m \u001b[1m1s\u001b[0m 4ms/step - loss: 2.5547e-04 - val_loss: 2.4865e-04\n",
            "Epoch 39/50\n",
            "\u001b[1m193/193\u001b[0m \u001b[32m━━━━━━━━━━━━━━━━━━━━\u001b[0m\u001b[37m\u001b[0m \u001b[1m1s\u001b[0m 4ms/step - loss: 2.4898e-04 - val_loss: 2.4147e-04\n",
            "Epoch 40/50\n",
            "\u001b[1m193/193\u001b[0m \u001b[32m━━━━━━━━━━━━━━━━━━━━\u001b[0m\u001b[37m\u001b[0m \u001b[1m1s\u001b[0m 4ms/step - loss: 2.4620e-04 - val_loss: 2.4542e-04\n",
            "Epoch 41/50\n",
            "\u001b[1m193/193\u001b[0m \u001b[32m━━━━━━━━━━━━━━━━━━━━\u001b[0m\u001b[37m\u001b[0m \u001b[1m1s\u001b[0m 5ms/step - loss: 2.4331e-04 - val_loss: 2.4942e-04\n",
            "Epoch 42/50\n",
            "\u001b[1m193/193\u001b[0m \u001b[32m━━━━━━━━━━━━━━━━━━━━\u001b[0m\u001b[37m\u001b[0m \u001b[1m1s\u001b[0m 4ms/step - loss: 2.4222e-04 - val_loss: 2.4355e-04\n",
            "Epoch 43/50\n",
            "\u001b[1m193/193\u001b[0m \u001b[32m━━━━━━━━━━━━━━━━━━━━\u001b[0m\u001b[37m\u001b[0m \u001b[1m1s\u001b[0m 3ms/step - loss: 2.3982e-04 - val_loss: 2.4336e-04\n",
            "Epoch 44/50\n",
            "\u001b[1m193/193\u001b[0m \u001b[32m━━━━━━━━━━━━━━━━━━━━\u001b[0m\u001b[37m\u001b[0m \u001b[1m1s\u001b[0m 4ms/step - loss: 2.3795e-04 - val_loss: 2.3327e-04\n",
            "Epoch 45/50\n",
            "\u001b[1m193/193\u001b[0m \u001b[32m━━━━━━━━━━━━━━━━━━━━\u001b[0m\u001b[37m\u001b[0m \u001b[1m1s\u001b[0m 4ms/step - loss: 2.3394e-04 - val_loss: 2.3400e-04\n",
            "Epoch 46/50\n",
            "\u001b[1m193/193\u001b[0m \u001b[32m━━━━━━━━━━━━━━━━━━━━\u001b[0m\u001b[37m\u001b[0m \u001b[1m2s\u001b[0m 6ms/step - loss: 2.3173e-04 - val_loss: 2.2922e-04\n",
            "Epoch 47/50\n",
            "\u001b[1m193/193\u001b[0m \u001b[32m━━━━━━━━━━━━━━━━━━━━\u001b[0m\u001b[37m\u001b[0m \u001b[1m2s\u001b[0m 9ms/step - loss: 2.2893e-04 - val_loss: 2.3254e-04\n",
            "Epoch 48/50\n",
            "\u001b[1m193/193\u001b[0m \u001b[32m━━━━━━━━━━━━━━━━━━━━\u001b[0m\u001b[37m\u001b[0m \u001b[1m2s\u001b[0m 6ms/step - loss: 2.2941e-04 - val_loss: 2.5061e-04\n",
            "Epoch 49/50\n",
            "\u001b[1m193/193\u001b[0m \u001b[32m━━━━━━━━━━━━━━━━━━━━\u001b[0m\u001b[37m\u001b[0m \u001b[1m1s\u001b[0m 3ms/step - loss: 2.3100e-04 - val_loss: 2.3295e-04\n",
            "Epoch 50/50\n",
            "\u001b[1m193/193\u001b[0m \u001b[32m━━━━━━━━━━━━━━━━━━━━\u001b[0m\u001b[37m\u001b[0m \u001b[1m1s\u001b[0m 4ms/step - loss: 2.2769e-04 - val_loss: 2.1667e-04\n",
            "\u001b[1m1712/1712\u001b[0m \u001b[32m━━━━━━━━━━━━━━━━━━━━\u001b[0m\u001b[37m\u001b[0m \u001b[1m2s\u001b[0m 1ms/step\n",
            "📁 Results saved to 'CTDAPD_Autoencoder_Results.csv'\n",
            "\n",
            "📊 Classification Report:\n",
            "              precision    recall  f1-score   support\n",
            "\n",
            "      Normal       0.85      0.95      0.90     46589\n",
            "      Attack       0.16      0.05      0.08      8179\n",
            "\n",
            "    accuracy                           0.82     54768\n",
            "   macro avg       0.50      0.50      0.49     54768\n",
            "weighted avg       0.75      0.82      0.78     54768\n",
            "\n"
          ]
        }
      ]
    },
    {
      "cell_type": "code",
      "source": [
        "from sklearn.metrics import classification_report, confusion_matrix\n",
        "\n",
        "# Load results from previous Autoencoder model\n",
        "df_result = pd.read_csv(\"/content/CTDAPD_Autoencoder_Results.csv\")\n",
        "\n",
        "# Load true labels from the original dataset\n",
        "true_labels = pd.read_csv(\"/content/drive/MyDrive/Dataset/CTDAPD Dataset.csv\")['Label'].map({'Normal': 0, 'Attack': 1})\n",
        "\n",
        "# Convert predicted labels to binary\n",
        "predicted_labels = df_result['Autoencoder_Anomaly'].map({'Normal': 0, 'Anomaly': 1})\n",
        "\n",
        "# --- Classification Report ---\n",
        "print(\"\\n📊 Classification Report:\")\n",
        "print(classification_report(true_labels, predicted_labels, target_names=['Normal', 'Attack']))\n",
        "\n",
        "# --- Confusion Matrix ---\n",
        "cm = confusion_matrix(true_labels, predicted_labels)\n",
        "print(\"\\n🧮 Confusion Matrix:\")\n",
        "print(cm)\n",
        "\n",
        "# Optional: Visualize Confusion Matrix\n",
        "import seaborn as sns\n",
        "import matplotlib.pyplot as plt\n",
        "\n",
        "sns.heatmap(cm, annot=True, fmt='d', cmap='Blues', xticklabels=['Pred Normal', 'Pred Attack'], yticklabels=['True Normal', 'True Attack'])\n",
        "plt.title(\"Confusion Matrix - Autoencoder\")\n",
        "plt.xlabel(\"Predicted\")\n",
        "plt.ylabel(\"Actual\")\n",
        "plt.show()\n"
      ],
      "metadata": {
        "colab": {
          "base_uri": "https://localhost:8080/",
          "height": 740
        },
        "id": "3Y89WdE9Xp-X",
        "outputId": "d3c60c01-3a6e-4ff4-d2ab-a54abe076a5a"
      },
      "execution_count": null,
      "outputs": [
        {
          "output_type": "stream",
          "name": "stdout",
          "text": [
            "\n",
            "📊 Classification Report:\n",
            "              precision    recall  f1-score   support\n",
            "\n",
            "      Normal       0.85      0.95      0.90     46589\n",
            "      Attack       0.16      0.05      0.08      8179\n",
            "\n",
            "    accuracy                           0.82     54768\n",
            "   macro avg       0.50      0.50      0.49     54768\n",
            "weighted avg       0.75      0.82      0.78     54768\n",
            "\n",
            "\n",
            "🧮 Confusion Matrix:\n",
            "[[44277  2312]\n",
            " [ 7752   427]]\n"
          ]
        },
        {
          "output_type": "display_data",
          "data": {
            "text/plain": [
              "<Figure size 640x480 with 2 Axes>"
            ],
            "image/png": "[encoded data removed]"
          },
          "metadata": {}
        }
      ]
    },
    {
      "cell_type": "code",
      "source": [
        "import joblib\n",
        "\n",
        "# Step 6: Save the trained autoencoder model\n",
        "joblib.dump(autoencoder, \"autoencoder_cyber_model.pkl\")\n",
        "print(\"\\n🚀 Trained Autoencoder model saved as 'autoencoder_cyber_model.pkl'\")\n"
      ],
      "metadata": {
        "colab": {
          "base_uri": "https://localhost:8080/"
        },
        "id": "sRw75TK0dKOS",
        "outputId": "2e48fcd3-0d36-437c-b4ad-327d3b7715ad"
      },
      "execution_count": null,
      "outputs": [
        {
          "output_type": "stream",
          "name": "stdout",
          "text": [
            "\n",
            "🚀 Trained Autoencoder model saved as 'autoencoder_cyber_model.pkl'\n"
          ]
        }
      ]
    },
    {
      "cell_type": "code",
      "source": [
        "from google.colab import files\n",
        "files.download(\"autoencoder_cyber_model.pkl\")"
      ],
      "metadata": {
        "colab": {
          "base_uri": "https://localhost:8080/",
          "height": 17
        },
        "id": "42VeYeXddO80",
        "outputId": "2bf08703-3342-49a1-97a5-0a03f227824a"
      },
      "execution_count": null,
      "outputs": [
        {
          "output_type": "display_data",
          "data": {
            "text/plain": [
              "<IPython.core.display.Javascript object>"
            ],
            "application/javascript": [
              "\n",
              "    async function download(id, filename, size) {\n",
              "      if (!google.colab.kernel.accessAllowed) {\n",
              "        return;\n",
              "      }\n",
              "      const div = document.createElement('div');\n",
              "      const label = document.createElement('label');\n",
              "      label.textContent = `Downloading \"${filename}\": `;\n",
              "      div.appendChild(label);\n",
              "      const progress = document.createElement('progress');\n",
              "      progress.max = size;\n",
              "      div.appendChild(progress);\n",
              "      document.body.appendChild(div);\n",
              "\n",
              "      const buffers = [];\n",
              "      let downloaded = 0;\n",
              "\n",
              "      const channel = await google.colab.kernel.comms.open(id);\n",
              "      // Send a message to notify the kernel that we're ready.\n",
              "      channel.send({})\n",
              "\n",
              "      for await (const message of channel.messages) {\n",
              "        // Send a message to notify the kernel that we're ready.\n",
              "        channel.send({})\n",
              "        if (message.buffers) {\n",
              "          for (const buffer of message.buffers) {\n",
              "            buffers.push(buffer);\n",
              "            downloaded += buffer.byteLength;\n",
              "            progress.value = downloaded;\n",
              "          }\n",
              "        }\n",
              "      }\n",
              "      const blob = new Blob(buffers, {type: 'application/binary'});\n",
              "      const a = document.createElement('a');\n",
              "      a.href = window.URL.createObjectURL(blob);\n",
              "      a.download = filename;\n",
              "      div.appendChild(a);\n",
              "      a.click();\n",
              "      div.remove();\n",
              "    }\n",
              "  "
            ]
          },
          "metadata": {}
        },
        {
          "output_type": "display_data",
          "data": {
            "text/plain": [
              "<IPython.core.display.Javascript object>"
            ],
            "application/javascript": [
              "download(\"download_e01b0f9e-3288-45ab-beda-f064a87eac70\", \"autoencoder_cyber_model.pkl\", 121192)"
            ]
          },
          "metadata": {}
        }
      ]
    },
    {
      "cell_type": "markdown",
      "source": [
        "New Model training"
      ],
      "metadata": {
        "id": "XoWjb_KndUWX"
      }
    },
    {
      "cell_type": "code",
      "source": [
        "from google.colab import drive\n",
        "drive.mount('/content/drive', force_remount=True)"
      ],
      "metadata": {
        "colab": {
          "base_uri": "https://localhost:8080/"
        },
        "id": "93Z3U3vDbci_",
        "outputId": "e154e271-84ad-4b65-8f70-6bc0c9f88c30"
      },
      "execution_count": null,
      "outputs": [
        {
          "output_type": "stream",
          "name": "stdout",
          "text": [
            "Mounted at /content/drive\n"
          ]
        }
      ]
    },
    {
      "cell_type": "code",
      "source": [
        "!ls '/content/drive/MyDrive/Dataset'"
      ],
      "metadata": {
        "colab": {
          "base_uri": "https://localhost:8080/"
        },
        "id": "4evTpYY1bpil",
        "outputId": "e1f650dd-b3ae-4337-c5ec-eaba31598d2a"
      },
      "execution_count": null,
      "outputs": [
        {
          "output_type": "stream",
          "name": "stdout",
          "text": [
            " CTDAPD_Anomaly_Ensembled.csv\t  hr_ldap_ad_dataset_with_roles.csv\n",
            " CTDAPD_Autoencoder_Results.csv   http.csv\n",
            " CTDAPD_Dataset.csv\t\t  LDAP_2009-12.csv\n",
            " CTDAPD_Dataset.gsheet\t\t  logon.csv\n",
            " device.csv\t\t\t  ML_DATA\n",
            " FINAL\t\t\t\t  Processed_Unsupervised_CTDAPD_Dataset.csv\n",
            "'FOR MODELS'\t\t\t  readme.txt\n",
            " hr_ldap_ad_dataset.csv\n"
          ]
        }
      ]
    },
    {
      "cell_type": "code",
      "source": [
        "import pandas as pd\n",
        "from sklearn.preprocessing import StandardScaler\n",
        "\n",
        "# Step 1: Load dataset\n",
        "df = pd.read_csv(\"/content/drive/MyDrive/Dataset/FOR MODELS/unified_logs_dataset_preprocessed.csv\")\n",
        "\n",
        "# Step 2: Drop the label column (for unsupervised learning)\n",
        "if 'suspicious' in df.columns:\n",
        "    df = df.drop(columns=['suspicious'])\n",
        "\n",
        "# Step 3: Drop non-numeric columns\n",
        "df_numeric = df.select_dtypes(include=['number'])\n",
        "\n",
        "# Step 4: Handle missing values\n",
        "df_numeric = df_numeric.dropna()  # or use df_numeric.fillna(method='ffill')\n",
        "\n",
        "# Step 5: Normalize numeric features\n",
        "scaler = StandardScaler()\n",
        "df_scaled = pd.DataFrame(scaler.fit_transform(df_numeric), columns=df_numeric.columns)\n",
        "\n",
        "# Step 6: Save cleaned dataset\n",
        "df_scaled.to_csv(\"/content/drive/MyDrive/Dataset/FOR MODELS/unsupervised_dataset_cleaned.csv\", index=False)\n",
        "print(\"✅ Cleaned dataset saved as 'unsupervised_dataset_cleaned.csv'\")\n"
      ],
      "metadata": {
        "colab": {
          "base_uri": "https://localhost:8080/"
        },
        "id": "exTDnzv0eIWF",
        "outputId": "33571d34-a9d6-4d7c-eaf5-7fc8435ff313"
      },
      "execution_count": null,
      "outputs": [
        {
          "output_type": "stream",
          "name": "stdout",
          "text": [
            "✅ Cleaned dataset saved as 'unsupervised_dataset_cleaned.csv'\n"
          ]
        }
      ]
    },
    {
      "cell_type": "code",
      "source": [
        "import pandas as pd\n",
        "import numpy as np\n",
        "from sklearn.ensemble import IsolationForest\n",
        "from sklearn.neighbors import LocalOutlierFactor\n",
        "\n",
        "# Load the cleaned dataset\n",
        "df = pd.read_csv(\"/content/drive/MyDrive/Dataset/FOR MODELS/unsupervised_dataset_cleaned.csv\")\n",
        "\n",
        "# -------------------- Isolation Forest --------------------\n",
        "iso_forest = IsolationForest(n_estimators=100, contamination=0.05, random_state=42)\n",
        "iso_preds = iso_forest.fit_predict(df)  # -1 = anomaly\n",
        "\n",
        "# -------------------- Local Outlier Factor --------------------\n",
        "lof = LocalOutlierFactor(n_neighbors=20, contamination=0.05)\n",
        "lof_preds = lof.fit_predict(df)  # -1 = anomaly\n",
        "\n",
        "# -------------------- Ensemble Voting --------------------\n",
        "ensemble_preds = np.where((iso_preds == -1) & (lof_preds == -1), -1, 1)\n",
        "\n",
        "# Save results to new DataFrame\n",
        "df_result = df.copy()\n",
        "df_result[\"IsolationForest\"] = iso_preds\n",
        "df_result[\"LOF\"] = lof_preds\n",
        "df_result[\"Final_Anomaly_Label\"] = np.where(ensemble_preds == -1, \"Anomaly\", \"Normal\")\n",
        "\n",
        "# Save to CSV\n",
        "output_path = \"/content/drive/MyDrive/Dataset/FOR MODELS/unsupervised_anomaly_results.csv\"\n",
        "df_result.to_csv(output_path, index=False)\n",
        "\n",
        "# Summary\n",
        "n_anomalies = np.sum(ensemble_preds == -1)\n",
        "print(f\"\\n🔍 Detected {n_anomalies} anomalies out of {len(df)} samples.\")\n",
        "print(f\"📁 Results saved to: {output_path}\")\n"
      ],
      "metadata": {
        "colab": {
          "base_uri": "https://localhost:8080/"
        },
        "id": "Yb2bUd_1ee62",
        "outputId": "eb2589f2-94a0-4db3-9cb4-aefbb86cb5ea"
      },
      "execution_count": null,
      "outputs": [
        {
          "output_type": "stream",
          "name": "stderr",
          "text": [
            "/usr/local/lib/python3.11/dist-packages/sklearn/neighbors/_lof.py:322: UserWarning: Duplicate values are leading to incorrect results. Increase the number of neighbors for more accurate results.\n",
            "  warnings.warn(\n"
          ]
        },
        {
          "output_type": "stream",
          "name": "stdout",
          "text": [
            "\n",
            "🔍 Detected 111 anomalies out of 29994 samples.\n",
            "📁 Results saved to: /content/drive/MyDrive/Dataset/FOR MODELS/unsupervised_anomaly_results.csv\n"
          ]
        }
      ]
    },
    {
      "cell_type": "code",
      "source": [
        "import pandas as pd\n",
        "import numpy as np\n",
        "from tensorflow.keras.models import Model\n",
        "from tensorflow.keras.layers import Input, Dense\n",
        "from tensorflow.keras.callbacks import EarlyStopping\n",
        "from sklearn.preprocessing import StandardScaler\n",
        "import joblib\n",
        "from sklearn.metrics import classification_report, confusion_matrix\n",
        "\n",
        "# Step 1: Load data and exclude labels\n",
        "df = pd.read_csv(\"/content/drive/MyDrive/Dataset/FOR MODELS/unsupervised_anomaly_results.csv\")\n",
        "X = df.drop(columns=[\"IsolationForest\", \"LOF\", \"Final_Anomaly_Label\"])\n",
        "y_true = df[\"Final_Anomaly_Label\"]  # True labels\n",
        "\n",
        "# Convert y_true to numeric labels (0 for \"Normal\" and 1 for \"Attack\")\n",
        "y_true = y_true.map({\"Normal\": 0, \"Anomaly\": 1})\n",
        "\n",
        "# Step 2: Normalize the input features\n",
        "scaler = StandardScaler()\n",
        "X_scaled = scaler.fit_transform(X)\n",
        "\n",
        "# Step 3: Define Autoencoder architecture\n",
        "input_dim = X_scaled.shape[1]\n",
        "encoding_dim = input_dim // 2\n",
        "\n",
        "input_layer = Input(shape=(input_dim,))\n",
        "encoded = Dense(encoding_dim, activation=\"relu\")(input_layer)\n",
        "encoded = Dense(encoding_dim // 2, activation=\"relu\")(encoded)\n",
        "decoded = Dense(encoding_dim, activation=\"relu\")(encoded)\n",
        "decoded = Dense(input_dim, activation=\"linear\")(decoded)\n",
        "\n",
        "autoencoder = Model(inputs=input_layer, outputs=decoded)\n",
        "autoencoder.compile(optimizer=\"adam\", loss=\"mse\")\n",
        "\n",
        "# Step 4: Train Autoencoder\n",
        "early_stop = EarlyStopping(monitor=\"loss\", patience=5, restore_best_weights=True)\n",
        "autoencoder.fit(X_scaled, X_scaled,\n",
        "                epochs=50,\n",
        "                batch_size=32,\n",
        "                shuffle=True,\n",
        "                validation_split=0.1,\n",
        "                callbacks=[early_stop],\n",
        "                verbose=1)\n",
        "\n",
        "# Step 5: Save model and scaler\n",
        "autoencoder.save(\"/content/drive/MyDrive/Dataset/FOR MODELS/autoencoder_trained_unsupervised.h5\")\n",
        "joblib.dump(scaler, \"/content/drive/MyDrive/Dataset/FOR MODELS/autoencoder_scaler_unsupervised.pkl\")\n",
        "\n",
        "# Step 6: Reconstruct the input data using the autoencoder\n",
        "X_reconstructed = autoencoder.predict(X_scaled)\n",
        "\n",
        "# Step 7: Calculate the reconstruction error (MSE) for each data point\n",
        "mse = np.mean(np.square(X_scaled - X_reconstructed), axis=1)\n",
        "\n",
        "# Step 8: Define a threshold for anomaly detection (e.g., 95th percentile of MSE)\n",
        "threshold = np.percentile(mse, 95)\n",
        "\n",
        "# Step 9: Classify the data points based on the reconstruction error\n",
        "y_pred = [1 if error > threshold else 0 for error in mse]  # 1 for \"Attack\", 0 for \"Normal\"\n",
        "\n",
        "# Step 10: Generate classification report and confusion matrix\n",
        "print(\"📊 Classification Report:\")\n",
        "print(classification_report(y_true, y_pred, target_names=[\"Normal\", \"Attack\"]))\n",
        "\n",
        "print(\"🧮 Confusion Matrix:\")\n",
        "cm = confusion_matrix(y_true, y_pred)\n",
        "print(cm)\n",
        "\n",
        "# --- Visualize Confusion Matrix ---\n",
        "sns.heatmap(cm, annot=True, fmt='d', cmap='Blues', xticklabels=['Pred Normal', 'Pred Attack'], yticklabels=['True Normal', 'True Attack'])\n",
        "plt.title(\"Confusion Matrix - Autoencoder\")\n",
        "plt.xlabel(\"Predicted\")\n",
        "plt.ylabel(\"Actual\")\n",
        "plt.show()\n",
        "\n",
        "\n",
        "print(\"\\n✅ Autoencoder training complete and saved.\")\n"
      ],
      "metadata": {
        "colab": {
          "base_uri": "https://localhost:8080/",
          "height": 1000
        },
        "id": "egAHt1JJf_Lz",
        "outputId": "e4625938-0157-46ad-ef06-527cbab3dc4c"
      },
      "execution_count": null,
      "outputs": [
        {
          "output_type": "stream",
          "name": "stdout",
          "text": [
            "Epoch 1/50\n",
            "\u001b[1m844/844\u001b[0m \u001b[32m━━━━━━━━━━━━━━━━━━━━\u001b[0m\u001b[37m\u001b[0m \u001b[1m7s\u001b[0m 5ms/step - loss: 0.9785 - val_loss: 0.8352\n",
            "Epoch 2/50\n",
            "\u001b[1m844/844\u001b[0m \u001b[32m━━━━━━━━━━━━━━━━━━━━\u001b[0m\u001b[37m\u001b[0m \u001b[1m5s\u001b[0m 5ms/step - loss: 0.8252 - val_loss: 0.8162\n",
            "Epoch 3/50\n",
            "\u001b[1m844/844\u001b[0m \u001b[32m━━━━━━━━━━━━━━━━━━━━\u001b[0m\u001b[37m\u001b[0m \u001b[1m5s\u001b[0m 5ms/step - loss: 0.8079 - val_loss: 0.8077\n",
            "Epoch 4/50\n",
            "\u001b[1m844/844\u001b[0m \u001b[32m━━━━━━━━━━━━━━━━━━━━\u001b[0m\u001b[37m\u001b[0m \u001b[1m3s\u001b[0m 4ms/step - loss: 0.7991 - val_loss: 0.8054\n",
            "Epoch 5/50\n",
            "\u001b[1m844/844\u001b[0m \u001b[32m━━━━━━━━━━━━━━━━━━━━\u001b[0m\u001b[37m\u001b[0m \u001b[1m7s\u001b[0m 6ms/step - loss: 0.8026 - val_loss: 0.8048\n",
            "Epoch 6/50\n",
            "\u001b[1m844/844\u001b[0m \u001b[32m━━━━━━━━━━━━━━━━━━━━\u001b[0m\u001b[37m\u001b[0m \u001b[1m5s\u001b[0m 6ms/step - loss: 0.7955 - val_loss: 0.8047\n",
            "Epoch 7/50\n",
            "\u001b[1m844/844\u001b[0m \u001b[32m━━━━━━━━━━━━━━━━━━━━\u001b[0m\u001b[37m\u001b[0m \u001b[1m6s\u001b[0m 7ms/step - loss: 0.7972 - val_loss: 0.8046\n",
            "Epoch 8/50\n",
            "\u001b[1m844/844\u001b[0m \u001b[32m━━━━━━━━━━━━━━━━━━━━\u001b[0m\u001b[37m\u001b[0m \u001b[1m4s\u001b[0m 5ms/step - loss: 0.7981 - val_loss: 0.8044\n",
            "Epoch 9/50\n",
            "\u001b[1m844/844\u001b[0m \u001b[32m━━━━━━━━━━━━━━━━━━━━\u001b[0m\u001b[37m\u001b[0m \u001b[1m2s\u001b[0m 2ms/step - loss: 0.8005 - val_loss: 0.8042\n",
            "Epoch 10/50\n",
            "\u001b[1m844/844\u001b[0m \u001b[32m━━━━━━━━━━━━━━━━━━━━\u001b[0m\u001b[37m\u001b[0m \u001b[1m2s\u001b[0m 3ms/step - loss: 0.7977 - val_loss: 0.8046\n",
            "Epoch 11/50\n",
            "\u001b[1m844/844\u001b[0m \u001b[32m━━━━━━━━━━━━━━━━━━━━\u001b[0m\u001b[37m\u001b[0m \u001b[1m2s\u001b[0m 2ms/step - loss: 0.8013 - val_loss: 0.8043\n",
            "Epoch 12/50\n",
            "\u001b[1m844/844\u001b[0m \u001b[32m━━━━━━━━━━━━━━━━━━━━\u001b[0m\u001b[37m\u001b[0m \u001b[1m3s\u001b[0m 3ms/step - loss: 0.7990 - val_loss: 0.8044\n",
            "Epoch 13/50\n",
            "\u001b[1m844/844\u001b[0m \u001b[32m━━━━━━━━━━━━━━━━━━━━\u001b[0m\u001b[37m\u001b[0m \u001b[1m3s\u001b[0m 4ms/step - loss: 0.7996 - val_loss: 0.8044\n",
            "Epoch 14/50\n",
            "\u001b[1m844/844\u001b[0m \u001b[32m━━━━━━━━━━━━━━━━━━━━\u001b[0m\u001b[37m\u001b[0m \u001b[1m4s\u001b[0m 3ms/step - loss: 0.8002 - val_loss: 0.8043\n",
            "Epoch 15/50\n",
            "\u001b[1m844/844\u001b[0m \u001b[32m━━━━━━━━━━━━━━━━━━━━\u001b[0m\u001b[37m\u001b[0m \u001b[1m2s\u001b[0m 3ms/step - loss: 0.7975 - val_loss: 0.8046\n",
            "Epoch 16/50\n",
            "\u001b[1m844/844\u001b[0m \u001b[32m━━━━━━━━━━━━━━━━━━━━\u001b[0m\u001b[37m\u001b[0m \u001b[1m2s\u001b[0m 2ms/step - loss: 0.7982 - val_loss: 0.8043\n",
            "Epoch 17/50\n",
            "\u001b[1m844/844\u001b[0m \u001b[32m━━━━━━━━━━━━━━━━━━━━\u001b[0m\u001b[37m\u001b[0m \u001b[1m3s\u001b[0m 3ms/step - loss: 0.7989 - val_loss: 0.8042\n",
            "Epoch 18/50\n",
            "\u001b[1m844/844\u001b[0m \u001b[32m━━━━━━━━━━━━━━━━━━━━\u001b[0m\u001b[37m\u001b[0m \u001b[1m4s\u001b[0m 2ms/step - loss: 0.8021 - val_loss: 0.8041\n",
            "Epoch 19/50\n",
            "\u001b[1m844/844\u001b[0m \u001b[32m━━━━━━━━━━━━━━━━━━━━\u001b[0m\u001b[37m\u001b[0m \u001b[1m2s\u001b[0m 2ms/step - loss: 0.8050 - val_loss: 0.8041\n",
            "Epoch 20/50\n",
            "\u001b[1m844/844\u001b[0m \u001b[32m━━━━━━━━━━━━━━━━━━━━\u001b[0m\u001b[37m\u001b[0m \u001b[1m3s\u001b[0m 3ms/step - loss: 0.8038 - val_loss: 0.8040\n",
            "Epoch 21/50\n",
            "\u001b[1m844/844\u001b[0m \u001b[32m━━━━━━━━━━━━━━━━━━━━\u001b[0m\u001b[37m\u001b[0m \u001b[1m6s\u001b[0m 4ms/step - loss: 0.7971 - val_loss: 0.8041\n",
            "Epoch 22/50\n",
            "\u001b[1m844/844\u001b[0m \u001b[32m━━━━━━━━━━━━━━━━━━━━\u001b[0m\u001b[37m\u001b[0m \u001b[1m4s\u001b[0m 3ms/step - loss: 0.7991 - val_loss: 0.8041\n",
            "Epoch 23/50\n",
            "\u001b[1m844/844\u001b[0m \u001b[32m━━━━━━━━━━━━━━━━━━━━\u001b[0m\u001b[37m\u001b[0m \u001b[1m2s\u001b[0m 3ms/step - loss: 0.7990 - val_loss: 0.8040\n",
            "Epoch 24/50\n",
            "\u001b[1m844/844\u001b[0m \u001b[32m━━━━━━━━━━━━━━━━━━━━\u001b[0m\u001b[37m\u001b[0m \u001b[1m2s\u001b[0m 2ms/step - loss: 0.7985 - val_loss: 0.8038\n",
            "Epoch 25/50\n",
            "\u001b[1m844/844\u001b[0m \u001b[32m━━━━━━━━━━━━━━━━━━━━\u001b[0m\u001b[37m\u001b[0m \u001b[1m3s\u001b[0m 3ms/step - loss: 0.7976 - val_loss: 0.8040\n",
            "Epoch 26/50\n",
            "\u001b[1m844/844\u001b[0m \u001b[32m━━━━━━━━━━━━━━━━━━━━\u001b[0m\u001b[37m\u001b[0m \u001b[1m3s\u001b[0m 4ms/step - loss: 0.7990 - val_loss: 0.8046\n",
            "Epoch 27/50\n",
            "\u001b[1m844/844\u001b[0m \u001b[32m━━━━━━━━━━━━━━━━━━━━\u001b[0m\u001b[37m\u001b[0m \u001b[1m4s\u001b[0m 3ms/step - loss: 0.7982 - val_loss: 0.8039\n",
            "Epoch 28/50\n",
            "\u001b[1m844/844\u001b[0m \u001b[32m━━━━━━━━━━━━━━━━━━━━\u001b[0m\u001b[37m\u001b[0m \u001b[1m2s\u001b[0m 2ms/step - loss: 0.7953 - val_loss: 0.8041\n",
            "Epoch 29/50\n",
            "\u001b[1m844/844\u001b[0m \u001b[32m━━━━━━━━━━━━━━━━━━━━\u001b[0m\u001b[37m\u001b[0m \u001b[1m3s\u001b[0m 3ms/step - loss: 0.8004 - val_loss: 0.8037\n",
            "Epoch 30/50\n",
            "\u001b[1m844/844\u001b[0m \u001b[32m━━━━━━━━━━━━━━━━━━━━\u001b[0m\u001b[37m\u001b[0m \u001b[1m4s\u001b[0m 4ms/step - loss: 0.8003 - val_loss: 0.8037\n",
            "Epoch 31/50\n",
            "\u001b[1m844/844\u001b[0m \u001b[32m━━━━━━━━━━━━━━━━━━━━\u001b[0m\u001b[37m\u001b[0m \u001b[1m4s\u001b[0m 3ms/step - loss: 0.7923 - val_loss: 0.8038\n",
            "Epoch 32/50\n",
            "\u001b[1m844/844\u001b[0m \u001b[32m━━━━━━━━━━━━━━━━━━━━\u001b[0m\u001b[37m\u001b[0m \u001b[1m2s\u001b[0m 3ms/step - loss: 0.8012 - val_loss: 0.8040\n",
            "Epoch 33/50\n",
            "\u001b[1m844/844\u001b[0m \u001b[32m━━━━━━━━━━━━━━━━━━━━\u001b[0m\u001b[37m\u001b[0m \u001b[1m2s\u001b[0m 3ms/step - loss: 0.7989 - val_loss: 0.8037\n",
            "Epoch 34/50\n",
            "\u001b[1m844/844\u001b[0m \u001b[32m━━━━━━━━━━━━━━━━━━━━\u001b[0m\u001b[37m\u001b[0m \u001b[1m2s\u001b[0m 2ms/step - loss: 0.7981 - val_loss: 0.8035\n",
            "Epoch 35/50\n",
            "\u001b[1m844/844\u001b[0m \u001b[32m━━━━━━━━━━━━━━━━━━━━\u001b[0m\u001b[37m\u001b[0m \u001b[1m4s\u001b[0m 4ms/step - loss: 0.8009 - val_loss: 0.8036\n",
            "Epoch 36/50\n",
            "\u001b[1m844/844\u001b[0m \u001b[32m━━━━━━━━━━━━━━━━━━━━\u001b[0m\u001b[37m\u001b[0m \u001b[1m4s\u001b[0m 3ms/step - loss: 0.8006 - val_loss: 0.8038\n",
            "Epoch 37/50\n",
            "\u001b[1m844/844\u001b[0m \u001b[32m━━━━━━━━━━━━━━━━━━━━\u001b[0m\u001b[37m\u001b[0m \u001b[1m3s\u001b[0m 3ms/step - loss: 0.7988 - val_loss: 0.8034\n",
            "Epoch 38/50\n",
            "\u001b[1m844/844\u001b[0m \u001b[32m━━━━━━━━━━━━━━━━━━━━\u001b[0m\u001b[37m\u001b[0m \u001b[1m2s\u001b[0m 3ms/step - loss: 0.7981 - val_loss: 0.8035\n",
            "Epoch 39/50\n",
            "\u001b[1m844/844\u001b[0m \u001b[32m━━━━━━━━━━━━━━━━━━━━\u001b[0m\u001b[37m\u001b[0m \u001b[1m3s\u001b[0m 3ms/step - loss: 0.8025 - val_loss: 0.8033\n",
            "Epoch 40/50\n",
            "\u001b[1m844/844\u001b[0m \u001b[32m━━━━━━━━━━━━━━━━━━━━\u001b[0m\u001b[37m\u001b[0m \u001b[1m5s\u001b[0m 3ms/step - loss: 0.7982 - val_loss: 0.8033\n",
            "Epoch 41/50\n",
            "\u001b[1m844/844\u001b[0m \u001b[32m━━━━━━━━━━━━━━━━━━━━\u001b[0m\u001b[37m\u001b[0m \u001b[1m2s\u001b[0m 3ms/step - loss: 0.8016 - val_loss: 0.8037\n",
            "Epoch 42/50\n",
            "\u001b[1m844/844\u001b[0m \u001b[32m━━━━━━━━━━━━━━━━━━━━\u001b[0m\u001b[37m\u001b[0m \u001b[1m2s\u001b[0m 3ms/step - loss: 0.7958 - val_loss: 0.8035\n",
            "Epoch 43/50\n",
            "\u001b[1m844/844\u001b[0m \u001b[32m━━━━━━━━━━━━━━━━━━━━\u001b[0m\u001b[37m\u001b[0m \u001b[1m3s\u001b[0m 3ms/step - loss: 0.7962 - val_loss: 0.8036\n",
            "Epoch 44/50\n",
            "\u001b[1m844/844\u001b[0m \u001b[32m━━━━━━━━━━━━━━━━━━━━\u001b[0m\u001b[37m\u001b[0m \u001b[1m4s\u001b[0m 4ms/step - loss: 0.8007 - val_loss: 0.8031\n",
            "Epoch 45/50\n",
            "\u001b[1m844/844\u001b[0m \u001b[32m━━━━━━━━━━━━━━━━━━━━\u001b[0m\u001b[37m\u001b[0m \u001b[1m4s\u001b[0m 3ms/step - loss: 0.7971 - val_loss: 0.8032\n",
            "Epoch 46/50\n",
            "\u001b[1m844/844\u001b[0m \u001b[32m━━━━━━━━━━━━━━━━━━━━\u001b[0m\u001b[37m\u001b[0m \u001b[1m3s\u001b[0m 3ms/step - loss: 0.7921 - val_loss: 0.8032\n",
            "Epoch 47/50\n",
            "\u001b[1m844/844\u001b[0m \u001b[32m━━━━━━━━━━━━━━━━━━━━\u001b[0m\u001b[37m\u001b[0m \u001b[1m3s\u001b[0m 3ms/step - loss: 0.7995 - val_loss: 0.8030\n",
            "Epoch 48/50\n",
            "\u001b[1m844/844\u001b[0m \u001b[32m━━━━━━━━━━━━━━━━━━━━\u001b[0m\u001b[37m\u001b[0m \u001b[1m3s\u001b[0m 4ms/step - loss: 0.7945 - val_loss: 0.8030\n",
            "Epoch 49/50\n",
            "\u001b[1m844/844\u001b[0m \u001b[32m━━━━━━━━━━━━━━━━━━━━\u001b[0m\u001b[37m\u001b[0m \u001b[1m4s\u001b[0m 3ms/step - loss: 0.7965 - val_loss: 0.8029\n",
            "Epoch 50/50\n",
            "\u001b[1m844/844\u001b[0m \u001b[32m━━━━━━━━━━━━━━━━━━━━\u001b[0m\u001b[37m\u001b[0m \u001b[1m2s\u001b[0m 3ms/step - loss: 0.8043 - val_loss: 0.8028\n"
          ]
        },
        {
          "output_type": "stream",
          "name": "stderr",
          "text": [
            "WARNING:absl:You are saving your model as an HDF5 file via `model.save()` or `keras.saving.save_model(model)`. This file format is considered legacy. We recommend using instead the native Keras format, e.g. `model.save('my_model.keras')` or `keras.saving.save_model(model, 'my_model.keras')`. \n"
          ]
        },
        {
          "output_type": "stream",
          "name": "stdout",
          "text": [
            "\u001b[1m938/938\u001b[0m \u001b[32m━━━━━━━━━━━━━━━━━━━━\u001b[0m\u001b[37m\u001b[0m \u001b[1m1s\u001b[0m 1ms/step\n",
            "📊 Classification Report:\n",
            "              precision    recall  f1-score   support\n",
            "\n",
            "      Normal       1.00      0.95      0.98     29883\n",
            "      Attack       0.05      0.72      0.10       111\n",
            "\n",
            "    accuracy                           0.95     29994\n",
            "   macro avg       0.53      0.84      0.54     29994\n",
            "weighted avg       1.00      0.95      0.97     29994\n",
            "\n",
            "🧮 Confusion Matrix:\n",
            "[[28465  1418]\n",
            " [   31    80]]\n"
          ]
        },
        {
          "output_type": "display_data",
          "data": {
            "text/plain": [
              "<Figure size 640x480 with 2 Axes>"
            ],
            "image/png": "[encoded data removed]"
          },
          "metadata": {}
        },
        {
          "output_type": "stream",
          "name": "stdout",
          "text": [
            "\n",
            "✅ Autoencoder training complete and saved.\n"
          ]
        }
      ]
    },
    {
      "cell_type": "code",
      "source": [
        "from google.colab import files\n",
        "files.download(\"/content/drive/MyDrive/Dataset/FOR MODELS/autoencoder_scaler_unsupervised.pkl\")"
      ],
      "metadata": {
        "id": "1ga1CkiLpbE8",
        "outputId": "eed100bc-f447-4ec9-fc4e-388b57c85883",
        "colab": {
          "base_uri": "https://localhost:8080/",
          "height": 17
        }
      },
      "execution_count": null,
      "outputs": [
        {
          "output_type": "display_data",
          "data": {
            "text/plain": [
              "<IPython.core.display.Javascript object>"
            ],
            "application/javascript": [
              "\n",
              "    async function download(id, filename, size) {\n",
              "      if (!google.colab.kernel.accessAllowed) {\n",
              "        return;\n",
              "      }\n",
              "      const div = document.createElement('div');\n",
              "      const label = document.createElement('label');\n",
              "      label.textContent = `Downloading \"${filename}\": `;\n",
              "      div.appendChild(label);\n",
              "      const progress = document.createElement('progress');\n",
              "      progress.max = size;\n",
              "      div.appendChild(progress);\n",
              "      document.body.appendChild(div);\n",
              "\n",
              "      const buffers = [];\n",
              "      let downloaded = 0;\n",
              "\n",
              "      const channel = await google.colab.kernel.comms.open(id);\n",
              "      // Send a message to notify the kernel that we're ready.\n",
              "      channel.send({})\n",
              "\n",
              "      for await (const message of channel.messages) {\n",
              "        // Send a message to notify the kernel that we're ready.\n",
              "        channel.send({})\n",
              "        if (message.buffers) {\n",
              "          for (const buffer of message.buffers) {\n",
              "            buffers.push(buffer);\n",
              "            downloaded += buffer.byteLength;\n",
              "            progress.value = downloaded;\n",
              "          }\n",
              "        }\n",
              "      }\n",
              "      const blob = new Blob(buffers, {type: 'application/binary'});\n",
              "      const a = document.createElement('a');\n",
              "      a.href = window.URL.createObjectURL(blob);\n",
              "      a.download = filename;\n",
              "      div.appendChild(a);\n",
              "      a.click();\n",
              "      div.remove();\n",
              "    }\n",
              "  "
            ]
          },
          "metadata": {}
        },
        {
          "output_type": "display_data",
          "data": {
            "text/plain": [
              "<IPython.core.display.Javascript object>"
            ],
            "application/javascript": [
              "download(\"download_f4d3a480-3a2a-4591-8604-8e788500a32a\", \"autoencoder_scaler_unsupervised.pkl\", 1087)"
            ]
          },
          "metadata": {}
        }
      ]
    },
    {
      "cell_type": "markdown",
      "source": [
        "**Unsupevised ML Model for** **system_runtime_behaviour_logs**"
      ],
      "metadata": {
        "id": "4i3IJuDfWoO9"
      }
    },
    {
      "cell_type": "code",
      "source": [
        "import pandas as pd\n",
        "from sklearn.preprocessing import StandardScaler\n",
        "\n",
        "# Load dataset from your Drive path\n",
        "df = pd.read_csv(\"/content/drive/MyDrive/Dataset/FOR MODELS/system_runtime_behavior_logs.csv\")\n",
        "\n",
        "# Drop non-informative or identifier columns\n",
        "df_unsupervised = df.drop(columns=[\"label\", \"container_id\", \"timestamp\", \"user_id\", \"username\"])\n",
        "\n",
        "# One-hot encode categorical columns\n",
        "categorical_cols = [\"syscall\", \"file\", \"network_activity\"]\n",
        "df_encoded = pd.get_dummies(df_unsupervised, columns=categorical_cols)\n",
        "\n",
        "# Normalize numerical features\n",
        "scaler = StandardScaler()\n",
        "X_scaled = scaler.fit_transform(df_encoded)\n",
        "\n",
        "# Save the preprocessed data\n",
        "preprocessed_df = pd.DataFrame(X_scaled, columns=df_encoded.columns)\n",
        "preprocessed_df.to_csv(\"/content/drive/MyDrive/Dataset/FOR MODELS/processed_unsupervised_data.csv\", index=False)\n",
        "\n",
        "print(\"✅ Preprocessed data saved to 'processed_unsupervised_data.csv'\")\n"
      ],
      "metadata": {
        "colab": {
          "base_uri": "https://localhost:8080/"
        },
        "id": "sBs5Mdv3W2UB",
        "outputId": "879dc405-2770-405b-f5e7-ae2e965770da"
      },
      "execution_count": null,
      "outputs": [
        {
          "output_type": "stream",
          "name": "stdout",
          "text": [
            "✅ Preprocessed data saved to 'processed_unsupervised_data.csv'\n"
          ]
        }
      ]
    },
    {
      "cell_type": "code",
      "source": [
        "import pandas as pd\n",
        "from sklearn.ensemble import IsolationForest\n",
        "from sklearn.preprocessing import LabelEncoder, StandardScaler\n",
        "import joblib\n",
        "\n",
        "# Load dataset\n",
        "df = pd.read_csv(\"/content/drive/MyDrive/Dataset/FOR MODELS/system_runtime_behavior_logs.csv\")\n",
        "\n",
        "# Drop irrelevant or non-numeric columns\n",
        "df = df.drop(columns=[\"container_id\", \"timestamp\", \"user_id\", \"username\"])\n",
        "\n",
        "# Encode categorical columns\n",
        "label_encoders = {}\n",
        "for col in [\"syscall\", \"file\", \"network_activity\"]:\n",
        "    le = LabelEncoder()\n",
        "    df[col] = le.fit_transform(df[col])\n",
        "    label_encoders[col] = le\n",
        "\n",
        "# Separate features and labels\n",
        "X = df.drop(columns=[\"label\"])\n",
        "y_true = df[\"label\"]  # Only used for evaluation, not training\n",
        "\n",
        "# Normalize features\n",
        "scaler = StandardScaler()\n",
        "X_scaled = scaler.fit_transform(X)\n",
        "\n",
        "# Train Isolation Forest\n",
        "model = IsolationForest(n_estimators=100, contamination=0.05, random_state=42)\n",
        "model.fit(X_scaled)\n",
        "\n",
        "# Save model and scaler\n",
        "joblib.dump(model, \"/content/drive/MyDrive/Dataset/FOR MODELS/isolation_forest_model.pkl\")\n",
        "joblib.dump(scaler, \"/content/drive/MyDrive/Dataset/FOR MODELS/isolation_forest_scaler.pkl\")\n",
        "\n",
        "print(\"\\n✅ Isolation Forest model training complete and saved.\")\n"
      ],
      "metadata": {
        "colab": {
          "base_uri": "https://localhost:8080/"
        },
        "id": "ri6t5KuzbmNY",
        "outputId": "5e2420bb-0927-4e22-929f-5c770e80299b"
      },
      "execution_count": null,
      "outputs": [
        {
          "output_type": "stream",
          "name": "stdout",
          "text": [
            "\n",
            "✅ Isolation Forest model training complete and saved.\n"
          ]
        }
      ]
    },
    {
      "cell_type": "code",
      "source": [
        "import pandas as pd\n",
        "from sklearn.ensemble import IsolationForest\n",
        "from sklearn.preprocessing import LabelEncoder, StandardScaler\n",
        "from sklearn.metrics import classification_report\n",
        "import joblib\n",
        "\n",
        "# Step 1: Load dataset and preprocess data\n",
        "df = pd.read_csv(\"/content/drive/MyDrive/Dataset/FOR MODELS/system_runtime_behavior_logs.csv\")\n",
        "\n",
        "# Drop irrelevant or non-numeric columns\n",
        "df = df.drop(columns=[\"container_id\", \"timestamp\", \"user_id\", \"username\"])\n",
        "\n",
        "# Encode categorical columns using Label Encoding\n",
        "label_encoders = {}\n",
        "for col in [\"syscall\", \"file\", \"network_activity\"]:\n",
        "    le = LabelEncoder()\n",
        "    df[col] = le.fit_transform(df[col])\n",
        "    label_encoders[col] = le\n",
        "\n",
        "# Separate features and labels\n",
        "X = df.drop(columns=[\"label\"])\n",
        "y_true = df[\"label\"]  # Only used for evaluation, not training\n",
        "\n",
        "# Step 2: Normalize features\n",
        "scaler = StandardScaler()\n",
        "X_scaled = scaler.fit_transform(X)\n",
        "\n",
        "# Step 3: Initialize model and set number of epochs for training\n",
        "epochs = 10  # Set the number of epochs\n",
        "model = IsolationForest(n_estimators=100, contamination=0.05, random_state=42)\n",
        "\n",
        "# Step 4: Train the model over multiple epochs (no classification report for each epoch)\n",
        "for epoch in range(epochs):\n",
        "    print(f\"\\nEpoch {epoch + 1}/{epochs}...\")\n",
        "\n",
        "    # Fit the model (simulating one epoch of training)\n",
        "    model.fit(X_scaled)\n",
        "\n",
        "# Step 5: Predict anomalies after all epochs (Outlier = -1, Inlier = 1)\n",
        "y_pred = model.predict(X_scaled)\n",
        "\n",
        "# Convert predictions to 0 or 1 (Outlier = 1, Inlier = 0)\n",
        "y_pred = [1 if val == -1 else 0 for val in y_pred]\n",
        "\n",
        "# Step 6: Generate final Classification Report\n",
        "print(\"📊 Final Classification Report:\")\n",
        "report = classification_report(y_true, y_pred, target_names=[\"Normal\", \"Attack\"])\n",
        "print(report)\n",
        "\n",
        "# Step 7: Save the final model and scaler\n",
        "joblib.dump(model, \"/content/drive/MyDrive/Dataset/FOR MODELS/isolation_forest_final_model.pkl\")\n",
        "joblib.dump(scaler, \"/content/drive/MyDrive/Dataset/FOR MODELS/isolation_forest_final_scaler.pkl\")\n",
        "\n",
        "print(\"\\n✅ Training complete with epochs. The final model and scaler are saved.\")\n"
      ],
      "metadata": {
        "colab": {
          "base_uri": "https://localhost:8080/"
        },
        "id": "oKXY69FJYyvj",
        "outputId": "66cb637d-f3bd-41ed-dd63-343e682f5927"
      },
      "execution_count": null,
      "outputs": [
        {
          "output_type": "stream",
          "name": "stdout",
          "text": [
            "\n",
            "Epoch 1/10...\n",
            "\n",
            "Epoch 2/10...\n",
            "\n",
            "Epoch 3/10...\n",
            "\n",
            "Epoch 4/10...\n",
            "\n",
            "Epoch 5/10...\n",
            "\n",
            "Epoch 6/10...\n",
            "\n",
            "Epoch 7/10...\n",
            "\n",
            "Epoch 8/10...\n",
            "\n",
            "Epoch 9/10...\n",
            "\n",
            "Epoch 10/10...\n",
            "📊 Final Classification Report:\n",
            "              precision    recall  f1-score   support\n",
            "\n",
            "      Normal       0.50      0.94      0.65      1506\n",
            "      Attack       0.42      0.04      0.08      1494\n",
            "\n",
            "    accuracy                           0.49      3000\n",
            "   macro avg       0.46      0.49      0.36      3000\n",
            "weighted avg       0.46      0.49      0.37      3000\n",
            "\n",
            "\n",
            "✅ Training complete with epochs. The final model and scaler are saved.\n"
          ]
        }
      ]
    },
    {
      "cell_type": "code",
      "source": [
        "from google.colab import files\n",
        "files.download(\"/content/drive/MyDrive/Dataset/FOR MODELS/isolation_forest_final_model.pkl\")"
      ],
      "metadata": {
        "colab": {
          "base_uri": "https://localhost:8080/",
          "height": 17
        },
        "id": "Ikyjp-BreSan",
        "outputId": "63aff93a-f096-4f80-821e-d63b298459c3"
      },
      "execution_count": null,
      "outputs": [
        {
          "output_type": "display_data",
          "data": {
            "text/plain": [
              "<IPython.core.display.Javascript object>"
            ],
            "application/javascript": [
              "\n",
              "    async function download(id, filename, size) {\n",
              "      if (!google.colab.kernel.accessAllowed) {\n",
              "        return;\n",
              "      }\n",
              "      const div = document.createElement('div');\n",
              "      const label = document.createElement('label');\n",
              "      label.textContent = `Downloading \"${filename}\": `;\n",
              "      div.appendChild(label);\n",
              "      const progress = document.createElement('progress');\n",
              "      progress.max = size;\n",
              "      div.appendChild(progress);\n",
              "      document.body.appendChild(div);\n",
              "\n",
              "      const buffers = [];\n",
              "      let downloaded = 0;\n",
              "\n",
              "      const channel = await google.colab.kernel.comms.open(id);\n",
              "      // Send a message to notify the kernel that we're ready.\n",
              "      channel.send({})\n",
              "\n",
              "      for await (const message of channel.messages) {\n",
              "        // Send a message to notify the kernel that we're ready.\n",
              "        channel.send({})\n",
              "        if (message.buffers) {\n",
              "          for (const buffer of message.buffers) {\n",
              "            buffers.push(buffer);\n",
              "            downloaded += buffer.byteLength;\n",
              "            progress.value = downloaded;\n",
              "          }\n",
              "        }\n",
              "      }\n",
              "      const blob = new Blob(buffers, {type: 'application/binary'});\n",
              "      const a = document.createElement('a');\n",
              "      a.href = window.URL.createObjectURL(blob);\n",
              "      a.download = filename;\n",
              "      div.appendChild(a);\n",
              "      a.click();\n",
              "      div.remove();\n",
              "    }\n",
              "  "
            ]
          },
          "metadata": {}
        },
        {
          "output_type": "display_data",
          "data": {
            "text/plain": [
              "<IPython.core.display.Javascript object>"
            ],
            "application/javascript": [
              "download(\"download_e94a344e-acb2-41b8-bada-bbda552fa72b\", \"isolation_forest_final_model.pkl\", 2164377)"
            ]
          },
          "metadata": {}
        }
      ]
    }
  ]
}